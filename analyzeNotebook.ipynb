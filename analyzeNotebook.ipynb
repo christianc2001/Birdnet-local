{
 "cells": [
  {
   "cell_type": "code",
   "execution_count": 1,
   "metadata": {},
   "outputs": [],
   "source": [
    "import pandas as pd\n",
    "import threading\n",
    "import datetime as dt\n",
    "import config as cfg\n",
    "import sounddevice as sd\n",
    "from scipy.io.wavfile import write\n",
    "import os"
   ]
  },
  {
   "cell_type": "code",
   "execution_count": 2,
   "metadata": {},
   "outputs": [
    {
     "name": "stdout",
     "output_type": "stream",
     "text": [
      "El directorio 'recordings' ya existe.\n",
      "El directorio 'inferences' ya existe.\n"
     ]
    }
   ],
   "source": [
    "def verificar_y_crear_directorio(ruta_directorio):\n",
    "\n",
    "    # Verificar si el directorio ya existe\n",
    "    if not os.path.exists(ruta_directorio):\n",
    "        try:\n",
    "            # Intentar crear el directorio si no existe\n",
    "            os.makedirs(ruta_directorio)\n",
    "            print(f\"Directorio '{ruta_directorio}' creado exitosamente.\")\n",
    "        except OSError as error:\n",
    "            print(f\"Error al crear el directorio '{ruta_directorio}': {error}\")\n",
    "    else:\n",
    "        print(f\"El directorio '{ruta_directorio}' ya existe.\")\n",
    "\n",
    "verificar_y_crear_directorio(\"recordings\")\n",
    "verificar_y_crear_directorio(\"inferences\")"
   ]
  },
  {
   "cell_type": "code",
   "execution_count": 3,
   "metadata": {},
   "outputs": [],
   "source": [
    "def grabar_audio(nombre_archivo, duracion=10):\n",
    "    \n",
    "    print(f\"Grabando audio por {duracion} segundos...\")\n",
    "\n",
    "    # Configurar la grabación\n",
    "    sr = cfg.SAMPLE_RATE \n",
    "    recording = sd.rec(int(duracion * sr), samplerate=sr, channels=2)\n",
    "    sd.wait()\n",
    "\n",
    "    # Guardar la grabación en un archivo WAV\n",
    "    nombre_completo = f\"recordings/{nombre_archivo}.wav\"\n",
    "    write(nombre_completo, sr, recording)\n",
    "\n",
    "    print(f\"Audio guardado como {nombre_completo}\")\n",
    "\n",
    "def borrar_audio(nombre_archivo):\n",
    "    \n",
    "    try:\n",
    "        os.remove(f\"recordings/{nombre_archivo}.wav\")\n",
    "        print(f\"Archivo {nombre_archivo}.wav eliminado.\")\n",
    "    except FileNotFoundError:\n",
    "        print(f\"Archivo {nombre_archivo}.wav no encontrado.\")\n",
    "\n",
    "def borrar_archivos_si_no_cumplen_condicion(input_file, columna, valor_umbral):\n",
    "    \n",
    "    try:\n",
    "        df = pd.read_csv(input_file)\n",
    "    except FileNotFoundError:\n",
    "        print(f\"El archivo {input_file} no fue encontrado.\")\n",
    "        return False  \n",
    "\n",
    "    # Verificar si las columnas especificadas existen en el DataFrame\n",
    "    if columna not in df.columns or 'Filename' not in df.columns:\n",
    "        print(\"Una o ambas columnas especificadas no existen en el archivo CSV.\")\n",
    "        return False\n",
    "\n",
    "    # Iterar sobre cada fila del DataFrame\n",
    "    for index, row in df.iterrows():\n",
    "        archivo = row['Filename']\n",
    "        condicion = row[columna]\n",
    "\n",
    "        # Verificar la condición\n",
    "        if condicion < valor_umbral:\n",
    "            # Eliminar el archivo si no cumple la condición\n",
    "            if os.path.exists(archivo):\n",
    "                os.remove(archivo)\n",
    "                print(f\"Se ha eliminado el archivo '{archivo}' porque '{columna}' < {valor_umbral}.\")\n",
    "\n",
    "    return True"
   ]
  },
  {
   "cell_type": "code",
   "execution_count": 4,
   "metadata": {},
   "outputs": [],
   "source": [
    "# CSV output file\n",
    "header = \"Filename,Start (s),End (s),Scientific name,Common name,Confidence\\n\"\n",
    "resultsPath = \"inferences/results.csv\"\n",
    "\n",
    "if os.path.dirname(resultsPath):\n",
    "    os.makedirs(os.path.dirname(resultsPath), exist_ok=True)\n",
    "\n",
    "with open(resultsPath, \"w\", encoding=\"utf-8\") as rfile:\n",
    "    rfile.write(header)"
   ]
  },
  {
   "cell_type": "code",
   "execution_count": 12,
   "metadata": {},
   "outputs": [
    {
     "name": "stdout",
     "output_type": "stream",
     "text": [
      "Grabando audio por 10 segundos...\n",
      "Audio guardado como recordings/16-04-2024_11-14-14.wav\n"
     ]
    },
    {
     "name": "stdout",
     "output_type": "stream",
     "text": [
      "Species list contains 6522 species\n",
      "Analyzing recordings/16-04-2024_11-14-14.wav\n"
     ]
    },
    {
     "name": "stderr",
     "output_type": "stream",
     "text": [
      "INFO: Created TensorFlow Lite XNNPACK delegate for CPU.\n"
     ]
    },
    {
     "name": "stdout",
     "output_type": "stream",
     "text": [
      "Finished recordings/16-04-2024_11-14-14.wav in 2.30 seconds\n"
     ]
    }
   ],
   "source": [
    "\n",
    "current_date = dt.datetime.now().strftime(\"%d-%m-%Y_%H-%M-%S\")\n",
    "\n",
    "nombre_archivo = str(current_date)    \n",
    "duracion_grabacion = 10\n",
    "\n",
    "grabar_audio(nombre_archivo, duracion_grabacion)\n",
    "\n",
    "def inference():\n",
    "    comando_a_ejecutar = f\"python3 analyze.py --i recordings/{nombre_archivo}.wav --o {resultsPath} --locale es --rtype csv --min_conf 0.5\"\n",
    "    os.system(comando_a_ejecutar) \n",
    "\n",
    "    borrar_archivos_si_no_cumplen_condicion(resultsPath, 'Confidence', 0.7)\n",
    "\n",
    "p = threading.Thread(target=inference)\n",
    "p.start()"
   ]
  },
  {
   "cell_type": "code",
   "execution_count": 15,
   "metadata": {},
   "outputs": [
    {
     "data": {
      "text/html": [
       "<div>\n",
       "<style scoped>\n",
       "    .dataframe tbody tr th:only-of-type {\n",
       "        vertical-align: middle;\n",
       "    }\n",
       "\n",
       "    .dataframe tbody tr th {\n",
       "        vertical-align: top;\n",
       "    }\n",
       "\n",
       "    .dataframe thead th {\n",
       "        text-align: right;\n",
       "    }\n",
       "</style>\n",
       "<table border=\"1\" class=\"dataframe\">\n",
       "  <thead>\n",
       "    <tr style=\"text-align: right;\">\n",
       "      <th></th>\n",
       "      <th>Filename</th>\n",
       "      <th>Start (s)</th>\n",
       "      <th>End (s)</th>\n",
       "      <th>Scientific name</th>\n",
       "      <th>Common name</th>\n",
       "      <th>Confidence</th>\n",
       "    </tr>\n",
       "  </thead>\n",
       "  <tbody>\n",
       "    <tr>\n",
       "      <th>0</th>\n",
       "      <td>16-04-2024_11-32-43.wav</td>\n",
       "      <td>9.0</td>\n",
       "      <td>12.0</td>\n",
       "      <td>Glaucidium gnoma</td>\n",
       "      <td>Mochuelo Californiano</td>\n",
       "      <td>0.6018</td>\n",
       "    </tr>\n",
       "    <tr>\n",
       "      <th>1</th>\n",
       "      <td>16-04-2024_11-32-53.wav</td>\n",
       "      <td>0.0</td>\n",
       "      <td>3.0</td>\n",
       "      <td>Human whistle</td>\n",
       "      <td>Human whistle</td>\n",
       "      <td>0.5461</td>\n",
       "    </tr>\n",
       "    <tr>\n",
       "      <th>2</th>\n",
       "      <td>16-04-2024_11-32-53.wav</td>\n",
       "      <td>3.0</td>\n",
       "      <td>6.0</td>\n",
       "      <td>Human whistle</td>\n",
       "      <td>Human whistle</td>\n",
       "      <td>0.5797</td>\n",
       "    </tr>\n",
       "    <tr>\n",
       "      <th>3</th>\n",
       "      <td>16-04-2024_11-33-03.wav</td>\n",
       "      <td>0.0</td>\n",
       "      <td>3.0</td>\n",
       "      <td>Nyctibius griseus</td>\n",
       "      <td>Nictibio Urutaú</td>\n",
       "      <td>0.9017</td>\n",
       "    </tr>\n",
       "    <tr>\n",
       "      <th>4</th>\n",
       "      <td>16-04-2024_11-33-03.wav</td>\n",
       "      <td>3.0</td>\n",
       "      <td>6.0</td>\n",
       "      <td>Cuculus micropterus</td>\n",
       "      <td>Cuco Alicorto</td>\n",
       "      <td>0.7678</td>\n",
       "    </tr>\n",
       "    <tr>\n",
       "      <th>5</th>\n",
       "      <td>16-04-2024_11-33-03.wav</td>\n",
       "      <td>6.0</td>\n",
       "      <td>9.0</td>\n",
       "      <td>Human whistle</td>\n",
       "      <td>Human whistle</td>\n",
       "      <td>0.7864</td>\n",
       "    </tr>\n",
       "    <tr>\n",
       "      <th>6</th>\n",
       "      <td>16-04-2024_11-33-23.wav</td>\n",
       "      <td>0.0</td>\n",
       "      <td>3.0</td>\n",
       "      <td>Meleagris gallopavo</td>\n",
       "      <td>Guajolote Gallipavo</td>\n",
       "      <td>0.7432</td>\n",
       "    </tr>\n",
       "    <tr>\n",
       "      <th>7</th>\n",
       "      <td>16-04-2024_11-33-23.wav</td>\n",
       "      <td>3.0</td>\n",
       "      <td>6.0</td>\n",
       "      <td>Meleagris gallopavo</td>\n",
       "      <td>Guajolote Gallipavo</td>\n",
       "      <td>0.7629</td>\n",
       "    </tr>\n",
       "  </tbody>\n",
       "</table>\n",
       "</div>"
      ],
      "text/plain": [
       "                  Filename  Start (s)  End (s)      Scientific name   \n",
       "0  16-04-2024_11-32-43.wav        9.0     12.0     Glaucidium gnoma  \\\n",
       "1  16-04-2024_11-32-53.wav        0.0      3.0        Human whistle   \n",
       "2  16-04-2024_11-32-53.wav        3.0      6.0        Human whistle   \n",
       "3  16-04-2024_11-33-03.wav        0.0      3.0    Nyctibius griseus   \n",
       "4  16-04-2024_11-33-03.wav        3.0      6.0  Cuculus micropterus   \n",
       "5  16-04-2024_11-33-03.wav        6.0      9.0        Human whistle   \n",
       "6  16-04-2024_11-33-23.wav        0.0      3.0  Meleagris gallopavo   \n",
       "7  16-04-2024_11-33-23.wav        3.0      6.0  Meleagris gallopavo   \n",
       "\n",
       "             Common name  Confidence  \n",
       "0  Mochuelo Californiano      0.6018  \n",
       "1          Human whistle      0.5461  \n",
       "2          Human whistle      0.5797  \n",
       "3        Nictibio Urutaú      0.9017  \n",
       "4          Cuco Alicorto      0.7678  \n",
       "5          Human whistle      0.7864  \n",
       "6    Guajolote Gallipavo      0.7432  \n",
       "7    Guajolote Gallipavo      0.7629  "
      ]
     },
     "execution_count": 15,
     "metadata": {},
     "output_type": "execute_result"
    }
   ],
   "source": [
    "df = pd.read_csv(resultsPath)\n",
    "df"
   ]
  }
 ],
 "metadata": {
  "kernelspec": {
   "display_name": "Python 3 (ipykernel)",
   "language": "python",
   "name": "python3"
  },
  "language_info": {
   "codemirror_mode": {
    "name": "ipython",
    "version": 3
   },
   "file_extension": ".py",
   "mimetype": "text/x-python",
   "name": "python",
   "nbconvert_exporter": "python",
   "pygments_lexer": "ipython3",
   "version": "3.10.6"
  }
 },
 "nbformat": 4,
 "nbformat_minor": 2
}
